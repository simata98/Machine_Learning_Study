{
 "cells": [
  {
   "cell_type": "code",
   "execution_count": 1,
   "metadata": {},
   "outputs": [],
   "source": [
    "import scapy.all as sc\n",
    "import numpy as np\n",
    "import logging\n",
    "import pandas as pd\n",
    "from datetime import datetime\n",
    "import os"
   ]
  },
  {
   "cell_type": "code",
   "execution_count": 2,
   "metadata": {},
   "outputs": [],
   "source": [
    "packet=sc.PcapReader('./data/1.pcap')"
   ]
  },
  {
   "cell_type": "code",
   "execution_count": 11,
   "metadata": {},
   "outputs": [],
   "source": [
    "f = packet.read_packet()"
   ]
  },
  {
   "cell_type": "code",
   "execution_count": 14,
   "metadata": {},
   "outputs": [
    {
     "data": {
      "text/plain": [
       "<ByteEnumField (IP,IPerror,IPv46).proto>"
      ]
     },
     "execution_count": 14,
     "metadata": {},
     "output_type": "execute_result"
    }
   ],
   "source": [
    "f[1].get_field(\"proto\")"
   ]
  },
  {
   "cell_type": "code",
   "execution_count": null,
   "metadata": {},
   "outputs": [],
   "source": [
    "# https://scapy.readthedocs.io/en/latest/api/scapy.packet.html\n",
    "def pcap_parser(pcap_file, out_file_csv, file_num):\n",
    "    # 로그 출력을 위한 logging 사용\n",
    "    logging.basicConfig(level=logging.DEBUG, format='%(asctime)s - %(levelname)s - %(message)s')\n",
    "    for pcap in pcap_file:\n",
    "    logging.info(\"Reading input file: %s\", pcap)\n",
    "    all_rows = []\n",
    "    packet=sc.PcapReader(pcap)\n",
    "    try:\n",
    "        while True:\n",
    "            f = packet.read_packet()\n",
    "            try:\n",
    "            # mapping protocol num\n",
    "            # https://stackoverflow.com/questions/35444280/ip-proto-field-number-to-string\n",
    "            proto_m = f[1].get_field('proto').i2s[f[1].proto]\n",
    "        except:\n",
    "            if f[1].proto==89:\n",
    "                proto_m='ospf'\n",
    "            elif f[1].proto==132:\n",
    "                proto_m=\"sctp\"\n",
    "            elif f[1].proto==47:\n",
    "                proto_m=\"gre\"\n",
    "            elif f[1].proto==33:\n",
    "                proto_m=\"sep\"\n",
    "            elif f[1].proto==103:\n",
    "                proto_m=\"pim\"\n",
    "            elif f[1].proto==2:\n",
    "                proto_m=\"igmp\"\n",
    "            elif f[1].proto==55:\n",
    "                proto_m=\"mobile\"\n",
    "            elif f[1].proto==53:\n",
    "                proto_m=\"swipe\"\n",
    "            elif f[1].proto==77:\n",
    "                proto_m=\"sun-nd\"\n",
    "            elif f[1].proto==255:\n",
    "                proto_m=\"unas\"\n",
    "            elif f[1].proto==253:\n",
    "                proto_m=\"ib\"\n",
    "            elif f[1].proto==135:\n",
    "                proto_m=\"fc\"\n",
    "            elif f[1].proto==131:\n",
    "                proto_m=\"pipe\"\n",
    "            elif f[1].proto==128:\n",
    "                proto_m=\"sccopmce\"\n",
    "            elif f[1].proto==127:\n",
    "                proto_m=\"crudp\"\n",
    "            elif f[1].proto==125:\n",
    "                proto_m=\"fire\"\n",
    "            elif f[1].proto==126:\n",
    "                proto_m=\"crtp\"\n",
    "            elif f[1].proto==129:\n",
    "                proto_m=\"iplt\"\n",
    "            elif f[1].proto==130:\n",
    "                proto_m=\"sps\"\n",
    "            elif f[1].proto==93:\n",
    "                proto_m=\"ax.25\"   \n",
    "            elif f[1].proto==46:\n",
    "                proto_m=\"rsvp\"\n",
    "            elif f[1].proto==109:\n",
    "                proto_m=\"snp\"\n",
    "            elif f[1].proto==81:\n",
    "                proto_m=\"vmtp\"\n",
    "            elif f[1].proto==11:\n",
    "                proto_m=\"nvp\"\n",
    "            elif f[1].proto==14:\n",
    "                proto_m=\"emcon\"\n",
    "            elif f[1].proto==82:\n",
    "                proto_m=\"secure-vmtp\"\n",
    "            elif f[1].proto==41:\n",
    "                proto_m=\"ipv6\"   \n",
    "            elif f[1].proto==26:\n",
    "                proto_m=\"leaf-2\"\n",
    "            elif f[1].proto==100:\n",
    "                proto_m=\"gmtp\"\n",
    "            elif f[1].proto==94:\n",
    "                proto_m=\"ipip\"\n",
    "            elif f[1].proto==102:\n",
    "                proto_m=\"pnni\"\n",
    "            elif f[1].proto==97:\n",
    "                proto_m=\"etherip\"\n",
    "            elif f[1].proto==86:\n",
    "                proto_m=\"dgp\"\n",
    "            elif f[1].proto==95:\n",
    "                proto_m=\"micp\"\n",
    "            else:\n",
    "                proto_m='others'\n",
    "        try:\n",
    "            proto_s=f[2].get_field(\"dport\").i2s[f[2].dport] ## Sub protocol\n",
    "        except:\n",
    "            if proto_m==\"gre\":\n",
    "                proto_s=\"nhrp\"\n",
    "            else:\n",
    "                proto_s=f[1].proto ## Sub protocol\n",
    "        Sttl=f['IP'].ttl ### Sttl\n",
    "        src_ip=f['IP'].src ## Src Ip\n",
    "        dst_ip=f['IP'].dst ## Dst Ip\n",
    "        total_len=f['IP'].len ## Total Length\n",
    "        epoch=f.time"
   ]
  },
  {
   "cell_type": "code",
   "execution_count": null,
   "metadata": {},
   "outputs": [],
   "source": []
  }
 ],
 "metadata": {
  "kernelspec": {
   "display_name": "Python 3.9.12 ('base')",
   "language": "python",
   "name": "python3"
  },
  "language_info": {
   "codemirror_mode": {
    "name": "ipython",
    "version": 3
   },
   "file_extension": ".py",
   "mimetype": "text/x-python",
   "name": "python",
   "nbconvert_exporter": "python",
   "pygments_lexer": "ipython3",
   "version": "3.9.12"
  },
  "orig_nbformat": 4,
  "vscode": {
   "interpreter": {
    "hash": "49cb93f377a7abe7414b7b0f21fb3017538004a126cf690fb524202736b7fb92"
   }
  }
 },
 "nbformat": 4,
 "nbformat_minor": 2
}
