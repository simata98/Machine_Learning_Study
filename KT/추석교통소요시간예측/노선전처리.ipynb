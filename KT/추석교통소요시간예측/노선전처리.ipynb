{
 "cells": [
  {
   "cell_type": "code",
   "execution_count": 1,
   "metadata": {},
   "outputs": [],
   "source": [
    "import pandas as pd\n",
    "import math\n",
    "import numpy as np\n",
    "import matplotlib.pyplot as plt\n",
    "import seaborn as sns\n",
    "import warnings    # 경고메시지 제외\n",
    "warnings.filterwarnings(action='ignore')\n",
    "\n",
    "plt.rc('font', family='NanumGothic')\n",
    "sns.set(font=\"NanumGothic\",\n",
    "        rc={\"axes.unicode_minus\":False}, # 마이너스 부호 깨짐 현상 해결\n",
    "        style='darkgrid')\n",
    "\n",
    "df_busan = pd.read_csv('./data/데이터셋/날씨전처리완료결측치완료.csv')"
   ]
  },
  {
   "cell_type": "code",
   "execution_count": 19,
   "metadata": {},
   "outputs": [],
   "source": [
    "traffic_2017_df = pd.read_csv('./data/교통량/2018년교통량.csv', encoding='cp949', index_col=False)\n",
    "traffic_2018_df = pd.read_csv('./data/교통량/2019년교통량.csv', encoding='cp949', index_col=False)\n",
    "traffic_2019_df = pd.read_csv('./data/교통량/2020년교통량.csv', encoding='cp949', index_col=False)\n",
    "traffic_2020_df = pd.read_csv('./data/교통량/2021년교통량.csv', encoding='cp949', index_col=False)"
   ]
  },
  {
   "cell_type": "markdown",
   "metadata": {},
   "source": [
    "10번이 경부선에 대한 코드였다."
   ]
  },
  {
   "cell_type": "code",
   "execution_count": 22,
   "metadata": {},
   "outputs": [
    {
     "data": {
      "text/html": [
       "<div>\n",
       "<style scoped>\n",
       "    .dataframe tbody tr th:only-of-type {\n",
       "        vertical-align: middle;\n",
       "    }\n",
       "\n",
       "    .dataframe tbody tr th {\n",
       "        vertical-align: top;\n",
       "    }\n",
       "\n",
       "    .dataframe thead th {\n",
       "        text-align: right;\n",
       "    }\n",
       "</style>\n",
       "<table border=\"1\" class=\"dataframe\">\n",
       "  <thead>\n",
       "    <tr style=\"text-align: right;\">\n",
       "      <th></th>\n",
       "      <th>조회기간</th>\n",
       "      <th>특송구분</th>\n",
       "      <th>귀성귀경구분</th>\n",
       "      <th>특송기간</th>\n",
       "      <th>TCS노선번호</th>\n",
       "      <th>교통량. 전년도</th>\n",
       "    </tr>\n",
       "  </thead>\n",
       "  <tbody>\n",
       "    <tr>\n",
       "      <th>817</th>\n",
       "      <td>2018.0</td>\n",
       "      <td>추석</td>\n",
       "      <td>귀성</td>\n",
       "      <td>D-1</td>\n",
       "      <td>10</td>\n",
       "      <td>72609</td>\n",
       "    </tr>\n",
       "    <tr>\n",
       "      <th>818</th>\n",
       "      <td>2018.0</td>\n",
       "      <td>추석</td>\n",
       "      <td>귀성</td>\n",
       "      <td>D-2</td>\n",
       "      <td>10</td>\n",
       "      <td>73232</td>\n",
       "    </tr>\n",
       "    <tr>\n",
       "      <th>819</th>\n",
       "      <td>2018.0</td>\n",
       "      <td>추석</td>\n",
       "      <td>귀성</td>\n",
       "      <td>D-3</td>\n",
       "      <td>10</td>\n",
       "      <td>72043</td>\n",
       "    </tr>\n",
       "  </tbody>\n",
       "</table>\n",
       "</div>"
      ],
      "text/plain": [
       "       조회기간  특송구분  귀성귀경구분  특송기간   TCS노선번호   교통량. 전년도\n",
       "817  2018.0    추석      귀성   D-1        10      72609\n",
       "818  2018.0    추석      귀성   D-2        10      73232\n",
       "819  2018.0    추석      귀성   D-3        10      72043"
      ]
     },
     "execution_count": 22,
     "metadata": {},
     "output_type": "execute_result"
    }
   ],
   "source": [
    "traffic_2017_df.loc[817:819]"
   ]
  },
  {
   "cell_type": "code",
   "execution_count": 25,
   "metadata": {},
   "outputs": [
    {
     "data": {
      "text/html": [
       "<div>\n",
       "<style scoped>\n",
       "    .dataframe tbody tr th:only-of-type {\n",
       "        vertical-align: middle;\n",
       "    }\n",
       "\n",
       "    .dataframe tbody tr th {\n",
       "        vertical-align: top;\n",
       "    }\n",
       "\n",
       "    .dataframe thead th {\n",
       "        text-align: right;\n",
       "    }\n",
       "</style>\n",
       "<table border=\"1\" class=\"dataframe\">\n",
       "  <thead>\n",
       "    <tr style=\"text-align: right;\">\n",
       "      <th></th>\n",
       "      <th>조회기간</th>\n",
       "      <th>특송구분</th>\n",
       "      <th>귀성귀경구분</th>\n",
       "      <th>특송기간</th>\n",
       "      <th>TCS노선번호</th>\n",
       "      <th>교통량. 전년도</th>\n",
       "    </tr>\n",
       "  </thead>\n",
       "  <tbody>\n",
       "    <tr>\n",
       "      <th>806</th>\n",
       "      <td>2019.0</td>\n",
       "      <td>추석</td>\n",
       "      <td>귀성</td>\n",
       "      <td>D-1</td>\n",
       "      <td>10</td>\n",
       "      <td>80239</td>\n",
       "    </tr>\n",
       "    <tr>\n",
       "      <th>807</th>\n",
       "      <td>2019.0</td>\n",
       "      <td>추석</td>\n",
       "      <td>귀성</td>\n",
       "      <td>D-2</td>\n",
       "      <td>10</td>\n",
       "      <td>77537</td>\n",
       "    </tr>\n",
       "    <tr>\n",
       "      <th>808</th>\n",
       "      <td>2019.0</td>\n",
       "      <td>추석</td>\n",
       "      <td>귀성</td>\n",
       "      <td>D-3</td>\n",
       "      <td>10</td>\n",
       "      <td>70033</td>\n",
       "    </tr>\n",
       "  </tbody>\n",
       "</table>\n",
       "</div>"
      ],
      "text/plain": [
       "       조회기간  특송구분  귀성귀경구분  특송기간   TCS노선번호   교통량. 전년도\n",
       "806  2019.0    추석      귀성   D-1        10      80239\n",
       "807  2019.0    추석      귀성   D-2        10      77537\n",
       "808  2019.0    추석      귀성   D-3        10      70033"
      ]
     },
     "execution_count": 25,
     "metadata": {},
     "output_type": "execute_result"
    }
   ],
   "source": [
    "traffic_2018_df.loc[806:808]"
   ]
  },
  {
   "cell_type": "code",
   "execution_count": 26,
   "metadata": {},
   "outputs": [
    {
     "data": {
      "text/html": [
       "<div>\n",
       "<style scoped>\n",
       "    .dataframe tbody tr th:only-of-type {\n",
       "        vertical-align: middle;\n",
       "    }\n",
       "\n",
       "    .dataframe tbody tr th {\n",
       "        vertical-align: top;\n",
       "    }\n",
       "\n",
       "    .dataframe thead th {\n",
       "        text-align: right;\n",
       "    }\n",
       "</style>\n",
       "<table border=\"1\" class=\"dataframe\">\n",
       "  <thead>\n",
       "    <tr style=\"text-align: right;\">\n",
       "      <th></th>\n",
       "      <th>조회기간</th>\n",
       "      <th>특송구분</th>\n",
       "      <th>귀성귀경구분</th>\n",
       "      <th>특송기간</th>\n",
       "      <th>TCS노선번호</th>\n",
       "      <th>교통량. 전년도</th>\n",
       "    </tr>\n",
       "  </thead>\n",
       "  <tbody>\n",
       "    <tr>\n",
       "      <th>837</th>\n",
       "      <td>2020.0</td>\n",
       "      <td>추석</td>\n",
       "      <td>귀성</td>\n",
       "      <td>D-1</td>\n",
       "      <td>10</td>\n",
       "      <td>66886</td>\n",
       "    </tr>\n",
       "    <tr>\n",
       "      <th>838</th>\n",
       "      <td>2020.0</td>\n",
       "      <td>추석</td>\n",
       "      <td>귀성</td>\n",
       "      <td>D-2</td>\n",
       "      <td>10</td>\n",
       "      <td>79017</td>\n",
       "    </tr>\n",
       "    <tr>\n",
       "      <th>839</th>\n",
       "      <td>2020.0</td>\n",
       "      <td>추석</td>\n",
       "      <td>귀성</td>\n",
       "      <td>D-3</td>\n",
       "      <td>10</td>\n",
       "      <td>72068</td>\n",
       "    </tr>\n",
       "  </tbody>\n",
       "</table>\n",
       "</div>"
      ],
      "text/plain": [
       "       조회기간  특송구분  귀성귀경구분  특송기간   TCS노선번호   교통량. 전년도\n",
       "837  2020.0    추석      귀성   D-1        10      66886\n",
       "838  2020.0    추석      귀성   D-2        10      79017\n",
       "839  2020.0    추석      귀성   D-3        10      72068"
      ]
     },
     "execution_count": 26,
     "metadata": {},
     "output_type": "execute_result"
    }
   ],
   "source": [
    "traffic_2019_df.loc[837:839]"
   ]
  },
  {
   "cell_type": "code",
   "execution_count": 27,
   "metadata": {},
   "outputs": [
    {
     "data": {
      "text/html": [
       "<div>\n",
       "<style scoped>\n",
       "    .dataframe tbody tr th:only-of-type {\n",
       "        vertical-align: middle;\n",
       "    }\n",
       "\n",
       "    .dataframe tbody tr th {\n",
       "        vertical-align: top;\n",
       "    }\n",
       "\n",
       "    .dataframe thead th {\n",
       "        text-align: right;\n",
       "    }\n",
       "</style>\n",
       "<table border=\"1\" class=\"dataframe\">\n",
       "  <thead>\n",
       "    <tr style=\"text-align: right;\">\n",
       "      <th></th>\n",
       "      <th>조회기간</th>\n",
       "      <th>특송구분</th>\n",
       "      <th>귀성귀경구분</th>\n",
       "      <th>특송기간</th>\n",
       "      <th>TCS노선번호</th>\n",
       "      <th>교통량. 전년도</th>\n",
       "    </tr>\n",
       "  </thead>\n",
       "  <tbody>\n",
       "    <tr>\n",
       "      <th>864</th>\n",
       "      <td>2021.0</td>\n",
       "      <td>추석</td>\n",
       "      <td>귀성</td>\n",
       "      <td>D-1</td>\n",
       "      <td>10</td>\n",
       "      <td>71095</td>\n",
       "    </tr>\n",
       "    <tr>\n",
       "      <th>865</th>\n",
       "      <td>2021.0</td>\n",
       "      <td>추석</td>\n",
       "      <td>귀성</td>\n",
       "      <td>D-2</td>\n",
       "      <td>10</td>\n",
       "      <td>73812</td>\n",
       "    </tr>\n",
       "    <tr>\n",
       "      <th>866</th>\n",
       "      <td>2021.0</td>\n",
       "      <td>추석</td>\n",
       "      <td>귀성</td>\n",
       "      <td>D-3</td>\n",
       "      <td>10</td>\n",
       "      <td>75997</td>\n",
       "    </tr>\n",
       "  </tbody>\n",
       "</table>\n",
       "</div>"
      ],
      "text/plain": [
       "       조회기간  특송구분  귀성귀경구분  특송기간   TCS노선번호   교통량. 전년도\n",
       "864  2021.0    추석      귀성   D-1        10      71095\n",
       "865  2021.0    추석      귀성   D-2        10      73812\n",
       "866  2021.0    추석      귀성   D-3        10      75997"
      ]
     },
     "execution_count": 27,
     "metadata": {},
     "output_type": "execute_result"
    }
   ],
   "source": [
    "traffic_2020_df.loc[864:866]"
   ]
  },
  {
   "cell_type": "markdown",
   "metadata": {},
   "source": [
    "D  ~  D+2에 대한 데이터가 없어 임의로 처리하는 것 보다는 평균값이 제공되므로 해당 값을 해당 년도에 전체적으로 집어 넣어주면 될 듯 하다."
   ]
  },
  {
   "cell_type": "code",
   "execution_count": 30,
   "metadata": {},
   "outputs": [
    {
     "data": {
      "text/plain": [
       "조회기간         2018.0\n",
       " 특송구분            추석\n",
       " 귀성귀경구분          귀성\n",
       " 특송기간            평균\n",
       " TCS노선번호         10\n",
       " 교통량. 전년도     72628\n",
       "Name: 113, dtype: object"
      ]
     },
     "execution_count": 30,
     "metadata": {},
     "output_type": "execute_result"
    }
   ],
   "source": [
    "traffic_2017_df.loc[113]"
   ]
  },
  {
   "cell_type": "code",
   "execution_count": 31,
   "metadata": {},
   "outputs": [
    {
     "data": {
      "text/plain": [
       "조회기간         2019.0\n",
       " 특송구분            추석\n",
       " 귀성귀경구분          귀성\n",
       " 특송기간            평균\n",
       " TCS노선번호         10\n",
       " 교통량. 전년도     75936\n",
       "Name: 113, dtype: object"
      ]
     },
     "execution_count": 31,
     "metadata": {},
     "output_type": "execute_result"
    }
   ],
   "source": [
    "traffic_2018_df.loc[113]"
   ]
  },
  {
   "cell_type": "code",
   "execution_count": 32,
   "metadata": {},
   "outputs": [
    {
     "data": {
      "text/plain": [
       "조회기간         2020.0\n",
       " 특송구분            추석\n",
       " 귀성귀경구분          귀성\n",
       " 특송기간            평균\n",
       " TCS노선번호         10\n",
       " 교통량. 전년도     72657\n",
       "Name: 113, dtype: object"
      ]
     },
     "execution_count": 32,
     "metadata": {},
     "output_type": "execute_result"
    }
   ],
   "source": [
    "traffic_2019_df.loc[113]"
   ]
  },
  {
   "cell_type": "code",
   "execution_count": 33,
   "metadata": {},
   "outputs": [
    {
     "data": {
      "text/plain": [
       "조회기간         2021.0\n",
       " 특송구분            추석\n",
       " 귀성귀경구분          귀성\n",
       " 특송기간            평균\n",
       " TCS노선번호         10\n",
       " 교통량. 전년도     73635\n",
       "Name: 113, dtype: object"
      ]
     },
     "execution_count": 33,
     "metadata": {},
     "output_type": "execute_result"
    }
   ],
   "source": [
    "traffic_2020_df.loc[113]"
   ]
  },
  {
   "cell_type": "markdown",
   "metadata": {},
   "source": [
    "하지만 평균값은 시간과 상관없는 것으로 판단.."
   ]
  },
  {
   "cell_type": "code",
   "execution_count": null,
   "metadata": {},
   "outputs": [],
   "source": []
  }
 ],
 "metadata": {
  "kernelspec": {
   "display_name": "Python 3.8.12 ('keras_env')",
   "language": "python",
   "name": "python3"
  },
  "language_info": {
   "codemirror_mode": {
    "name": "ipython",
    "version": 3
   },
   "file_extension": ".py",
   "mimetype": "text/x-python",
   "name": "python",
   "nbconvert_exporter": "python",
   "pygments_lexer": "ipython3",
   "version": "3.8.12"
  },
  "orig_nbformat": 4,
  "vscode": {
   "interpreter": {
    "hash": "263279b5c7f5294ef7179eeb038e9113bb5dce42ff0c0d19b3e81ce1438dd79a"
   }
  }
 },
 "nbformat": 4,
 "nbformat_minor": 2
}
