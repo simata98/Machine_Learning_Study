{
 "cells": [
  {
   "cell_type": "code",
   "execution_count": 1,
   "metadata": {},
   "outputs": [],
   "source": [
    "import pandas as pd\n",
    "import math\n",
    "import numpy as np\n",
    "import matplotlib.pyplot as plt\n",
    "import seaborn as sns\n",
    "import warnings    # 경고메시지 제외\n",
    "warnings.filterwarnings(action='ignore')\n",
    "\n",
    "plt.rc('font', family='NanumGothic')\n",
    "sns.set(font=\"NanumGothic\",\n",
    "        rc={\"axes.unicode_minus\":False}, # 마이너스 부호 깨짐 현상 해결\n",
    "        style='darkgrid')"
   ]
  },
  {
   "cell_type": "code",
   "execution_count": 2,
   "metadata": {},
   "outputs": [],
   "source": [
    "traffic_2017_df = pd.read_csv('./data/교통량/2017년교통량평균.csv', encoding='cp949', index_col=False)\n",
    "traffic_2018_df = pd.read_csv('./data/교통량/2018년교통량평균.csv', encoding='cp949', index_col=False)\n",
    "traffic_2019_df = pd.read_csv('./data/교통량/2019년교통량평균.csv', encoding='cp949', index_col=False)\n",
    "traffic_2020_df = pd.read_csv('./data/교통량/2020년교통량평균.csv', encoding='cp949', index_col=False)"
   ]
  },
  {
   "cell_type": "code",
   "execution_count": 27,
   "metadata": {},
   "outputs": [],
   "source": [
    "traffic_2017_list = []\n",
    "for i in range(7):\n",
    "  traffic_2017_list.append(traffic_2017_df[(traffic_2017_df['집계일자'] == 20171003 + i) &\n",
    "                (traffic_2017_df['출발영업소명'] == '서울') &\n",
    "                (traffic_2017_df['도착영업소명'] == '부산')]['도착지방향총교통량'].values[0]) "
   ]
  },
  {
   "cell_type": "code",
   "execution_count": 28,
   "metadata": {},
   "outputs": [
    {
     "data": {
      "text/plain": [
       "[73, 53, 75, 50, 34, 35, 12]"
      ]
     },
     "execution_count": 28,
     "metadata": {},
     "output_type": "execute_result"
    }
   ],
   "source": [
    "traffic_2017_list"
   ]
  },
  {
   "cell_type": "code",
   "execution_count": 29,
   "metadata": {},
   "outputs": [],
   "source": [
    "traffic_2018_list = []\n",
    "for i in range(7):\n",
    "  traffic_2018_list.append(traffic_2018_df[(traffic_2018_df['집계일자'] == 20181003 + i) &\n",
    "                (traffic_2018_df['출발영업소명'] == '서울') &\n",
    "                (traffic_2018_df['도착영업소명'] == '부산')]['도착지방향총교통량'].values[0]) "
   ]
  },
  {
   "cell_type": "code",
   "execution_count": 30,
   "metadata": {},
   "outputs": [],
   "source": [
    "traffic_2019_list = []\n",
    "for i in range(7):\n",
    "  traffic_2019_list.append(traffic_2019_df[(traffic_2019_df['집계일자'] == 20191003 + i) &\n",
    "                (traffic_2019_df['출발영업소명'] == '서울') &\n",
    "                (traffic_2019_df['도착영업소명'] == '부산')]['도착지방향총교통량'].values[0]) "
   ]
  },
  {
   "cell_type": "code",
   "execution_count": 31,
   "metadata": {},
   "outputs": [],
   "source": [
    "traffic_2020_list = []\n",
    "for i in range(7):\n",
    "  traffic_2020_list.append(traffic_2020_df[(traffic_2020_df['집계일자'] == 20201003 + i) &\n",
    "                (traffic_2020_df['출발영업소명'] == '서울') &\n",
    "                (traffic_2020_df['도착영업소명'] == '부산')]['도착지방향총교통량'].values[0]) "
   ]
  },
  {
   "cell_type": "code",
   "execution_count": 34,
   "metadata": {},
   "outputs": [
    {
     "data": {
      "text/plain": [
       "([73, 53, 75, 50, 34, 35, 12],\n",
       " [12, 10, 16, 24, 19, 9, 16],\n",
       " [39, 23, 26, 23, 11, 14, 21],\n",
       " [23, 14, 14, 11, 10, 15, 21])"
      ]
     },
     "execution_count": 34,
     "metadata": {},
     "output_type": "execute_result"
    }
   ],
   "source": [
    "traffic_2017_list, traffic_2018_list, traffic_2019_list, traffic_2020_list"
   ]
  },
  {
   "cell_type": "code",
   "execution_count": null,
   "metadata": {},
   "outputs": [],
   "source": []
  }
 ],
 "metadata": {
  "kernelspec": {
   "display_name": "Python 3.8.12 ('keras_env')",
   "language": "python",
   "name": "python3"
  },
  "language_info": {
   "codemirror_mode": {
    "name": "ipython",
    "version": 3
   },
   "file_extension": ".py",
   "mimetype": "text/x-python",
   "name": "python",
   "nbconvert_exporter": "python",
   "pygments_lexer": "ipython3",
   "version": "3.8.12"
  },
  "orig_nbformat": 4,
  "vscode": {
   "interpreter": {
    "hash": "263279b5c7f5294ef7179eeb038e9113bb5dce42ff0c0d19b3e81ce1438dd79a"
   }
  }
 },
 "nbformat": 4,
 "nbformat_minor": 2
}
