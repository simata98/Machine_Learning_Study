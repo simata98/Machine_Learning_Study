{
 "cells": [
  {
   "cell_type": "code",
   "execution_count": 1,
   "metadata": {},
   "outputs": [],
   "source": [
    "import pandas as pd\n",
    "import math\n",
    "import numpy as np\n",
    "import matplotlib.pyplot as plt\n",
    "import seaborn as sns\n",
    "import warnings    # 경고메시지 제외\n",
    "warnings.filterwarnings(action='ignore')\n",
    "\n",
    "plt.rc('font', family='NanumGothic')\n",
    "sns.set(font=\"NanumGothic\",\n",
    "        rc={\"axes.unicode_minus\":False}, # 마이너스 부호 깨짐 현상 해결\n",
    "        style='darkgrid')"
   ]
  },
  {
   "cell_type": "code",
   "execution_count": 2,
   "metadata": {},
   "outputs": [],
   "source": [
    "import glob\n",
    "df_2018_list = glob.glob('./data/데이터셋/data_2018_*.csv')\n"
   ]
  },
  {
   "cell_type": "code",
   "execution_count": 3,
   "metadata": {},
   "outputs": [],
   "source": [
    "df_2018_full = pd.concat(map(pd.read_csv, df_2018_list), axis=0, ignore_index=True)"
   ]
  },
  {
   "cell_type": "code",
   "execution_count": 6,
   "metadata": {},
   "outputs": [
    {
     "data": {
      "text/plain": [
       " 0.0    425\n",
       "-3.0     96\n",
       "-2.0     96\n",
       "-1.0     96\n",
       " 1.0     96\n",
       " 2.0     96\n",
       " 3.0     95\n",
       "Name: date, dtype: int64"
      ]
     },
     "execution_count": 6,
     "metadata": {},
     "output_type": "execute_result"
    }
   ],
   "source": [
    "df_2018_full['date'].value_counts()"
   ]
  },
  {
   "cell_type": "code",
   "execution_count": 7,
   "metadata": {},
   "outputs": [],
   "source": [
    "df_2018_busan = df_2018_full.groupby('destination').get_group('부산')\n",
    "df_2018_gwangju = df_2018_full.groupby('destination').get_group('광주')\n",
    "df_2018_ganglung = df_2018_full.groupby('destination').get_group('강릉')\n",
    "df_2018_daegu = df_2018_full.groupby('destination').get_group('대구')\n",
    "df_2018_mockpo = df_2018_full.groupby('destination').get_group('목포')\n",
    "df_2018_deageon = df_2018_full.groupby('destination').get_group('대전')"
   ]
  },
  {
   "cell_type": "code",
   "execution_count": 8,
   "metadata": {},
   "outputs": [
    {
     "data": {
      "text/html": [
       "<div>\n",
       "<style scoped>\n",
       "    .dataframe tbody tr th:only-of-type {\n",
       "        vertical-align: middle;\n",
       "    }\n",
       "\n",
       "    .dataframe tbody tr th {\n",
       "        vertical-align: top;\n",
       "    }\n",
       "\n",
       "    .dataframe thead th {\n",
       "        text-align: right;\n",
       "    }\n",
       "</style>\n",
       "<table border=\"1\" class=\"dataframe\">\n",
       "  <thead>\n",
       "    <tr style=\"text-align: right;\">\n",
       "      <th></th>\n",
       "      <th>when</th>\n",
       "      <th>date</th>\n",
       "      <th>year</th>\n",
       "      <th>hour</th>\n",
       "      <th>destination</th>\n",
       "      <th>방향</th>\n",
       "      <th>spend_time</th>\n",
       "    </tr>\n",
       "  </thead>\n",
       "  <tbody>\n",
       "    <tr>\n",
       "      <th>336</th>\n",
       "      <td>추석</td>\n",
       "      <td>0.0</td>\n",
       "      <td>2018</td>\n",
       "      <td>0</td>\n",
       "      <td>부산</td>\n",
       "      <td>귀성방향</td>\n",
       "      <td>214.2</td>\n",
       "    </tr>\n",
       "    <tr>\n",
       "      <th>337</th>\n",
       "      <td>추석</td>\n",
       "      <td>0.0</td>\n",
       "      <td>2018</td>\n",
       "      <td>1</td>\n",
       "      <td>부산</td>\n",
       "      <td>귀성방향</td>\n",
       "      <td>217.7</td>\n",
       "    </tr>\n",
       "    <tr>\n",
       "      <th>338</th>\n",
       "      <td>추석</td>\n",
       "      <td>0.0</td>\n",
       "      <td>2018</td>\n",
       "      <td>2</td>\n",
       "      <td>부산</td>\n",
       "      <td>귀성방향</td>\n",
       "      <td>220.6</td>\n",
       "    </tr>\n",
       "    <tr>\n",
       "      <th>339</th>\n",
       "      <td>추석</td>\n",
       "      <td>0.0</td>\n",
       "      <td>2018</td>\n",
       "      <td>3</td>\n",
       "      <td>부산</td>\n",
       "      <td>귀성방향</td>\n",
       "      <td>235.3</td>\n",
       "    </tr>\n",
       "    <tr>\n",
       "      <th>340</th>\n",
       "      <td>추석</td>\n",
       "      <td>0.0</td>\n",
       "      <td>2018</td>\n",
       "      <td>4</td>\n",
       "      <td>부산</td>\n",
       "      <td>귀성방향</td>\n",
       "      <td>248.2</td>\n",
       "    </tr>\n",
       "    <tr>\n",
       "      <th>...</th>\n",
       "      <td>...</td>\n",
       "      <td>...</td>\n",
       "      <td>...</td>\n",
       "      <td>...</td>\n",
       "      <td>...</td>\n",
       "      <td>...</td>\n",
       "      <td>...</td>\n",
       "    </tr>\n",
       "    <tr>\n",
       "      <th>492</th>\n",
       "      <td>추석</td>\n",
       "      <td>0.0</td>\n",
       "      <td>2018</td>\n",
       "      <td>18</td>\n",
       "      <td>부산</td>\n",
       "      <td>귀성방향</td>\n",
       "      <td>260.2</td>\n",
       "    </tr>\n",
       "    <tr>\n",
       "      <th>493</th>\n",
       "      <td>추석</td>\n",
       "      <td>0.0</td>\n",
       "      <td>2018</td>\n",
       "      <td>19</td>\n",
       "      <td>부산</td>\n",
       "      <td>귀성방향</td>\n",
       "      <td>277.2</td>\n",
       "    </tr>\n",
       "    <tr>\n",
       "      <th>494</th>\n",
       "      <td>추석</td>\n",
       "      <td>0.0</td>\n",
       "      <td>2018</td>\n",
       "      <td>20</td>\n",
       "      <td>부산</td>\n",
       "      <td>귀성방향</td>\n",
       "      <td>268.1</td>\n",
       "    </tr>\n",
       "    <tr>\n",
       "      <th>495</th>\n",
       "      <td>추석</td>\n",
       "      <td>0.0</td>\n",
       "      <td>2018</td>\n",
       "      <td>21</td>\n",
       "      <td>부산</td>\n",
       "      <td>귀성방향</td>\n",
       "      <td>251.6</td>\n",
       "    </tr>\n",
       "    <tr>\n",
       "      <th>496</th>\n",
       "      <td>추석</td>\n",
       "      <td>0.0</td>\n",
       "      <td>2018</td>\n",
       "      <td>22</td>\n",
       "      <td>부산</td>\n",
       "      <td>귀성방향</td>\n",
       "      <td>240.8</td>\n",
       "    </tr>\n",
       "  </tbody>\n",
       "</table>\n",
       "<p>161 rows × 7 columns</p>\n",
       "</div>"
      ],
      "text/plain": [
       "    when  date  year  hour destination    방향  spend_time\n",
       "336   추석   0.0  2018     0          부산  귀성방향       214.2\n",
       "337   추석   0.0  2018     1          부산  귀성방향       217.7\n",
       "338   추석   0.0  2018     2          부산  귀성방향       220.6\n",
       "339   추석   0.0  2018     3          부산  귀성방향       235.3\n",
       "340   추석   0.0  2018     4          부산  귀성방향       248.2\n",
       "..   ...   ...   ...   ...         ...   ...         ...\n",
       "492   추석   0.0  2018    18          부산  귀성방향       260.2\n",
       "493   추석   0.0  2018    19          부산  귀성방향       277.2\n",
       "494   추석   0.0  2018    20          부산  귀성방향       268.1\n",
       "495   추석   0.0  2018    21          부산  귀성방향       251.6\n",
       "496   추석   0.0  2018    22          부산  귀성방향       240.8\n",
       "\n",
       "[161 rows x 7 columns]"
      ]
     },
     "execution_count": 8,
     "metadata": {},
     "output_type": "execute_result"
    }
   ],
   "source": [
    "df_2018_busan"
   ]
  },
  {
   "cell_type": "code",
   "execution_count": null,
   "metadata": {},
   "outputs": [],
   "source": []
  }
 ],
 "metadata": {
  "kernelspec": {
   "display_name": "Python 3.8.10 64-bit",
   "language": "python",
   "name": "python3"
  },
  "language_info": {
   "codemirror_mode": {
    "name": "ipython",
    "version": 3
   },
   "file_extension": ".py",
   "mimetype": "text/x-python",
   "name": "python",
   "nbconvert_exporter": "python",
   "pygments_lexer": "ipython3",
   "version": "3.8.10"
  },
  "orig_nbformat": 4,
  "vscode": {
   "interpreter": {
    "hash": "e7370f93d1d0cde622a1f8e1c04877d8463912d04d973331ad4851f04de6915a"
   }
  }
 },
 "nbformat": 4,
 "nbformat_minor": 2
}
