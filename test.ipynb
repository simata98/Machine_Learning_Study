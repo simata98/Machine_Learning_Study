{
 "cells": [
  {
   "cell_type": "code",
   "execution_count": 8,
   "metadata": {},
   "outputs": [],
   "source": [
    "t1 = [9, 4, 4, 4, 7]\n",
    "t2 = [2, 10, 7, 6, 3]\n",
    "\n",
    "# 9, 2는  같은 스터디 그룹\n",
    "# 4, 10은 같은 스터디 그룹"
   ]
  },
  {
   "cell_type": "code",
   "execution_count": 30,
   "metadata": {},
   "outputs": [],
   "source": [
    "def dfs(v, length, comb):\n",
    "    visited = [False]*length\n",
    "    visited[v] = True\n",
    "    print(v, end=' ')\n",
    "    for i in comb[v]:\n",
    "        if not visited[i]:\n",
    "            dfs(i)\n",
    "\n",
    "def solution(n, t1, t2):\n",
    "    answer = []\n",
    "    total_student = [x for x in range(1, n + 1)]\n",
    "    solo = []\n",
    "    # 솔로 \n",
    "    for i in range(n):\n",
    "        if total_student[i] not in t1 + t2:\n",
    "            solo.append(total_student[i])\n",
    "    \n",
    "    #그룹\n",
    "    comb = []\n",
    "    for i in range(len(t1)):\n",
    "        temp = []\n",
    "        temp.append(t1[i])\n",
    "        temp.append(t2[i])\n",
    "        comb.append(temp)\n",
    "    \n",
    "    for i in comb:\n",
    "        i.sort()\n",
    "    \n",
    "\n",
    "    return dfs(4, len(t1), comb)\n",
    "\n"
   ]
  },
  {
   "cell_type": "code",
   "execution_count": 31,
   "metadata": {},
   "outputs": [
    {
     "name": "stdout",
     "output_type": "stream",
     "text": [
      "4 "
     ]
    },
    {
     "ename": "TypeError",
     "evalue": "dfs() missing 2 required positional arguments: 'length' and 'comb'",
     "output_type": "error",
     "traceback": [
      "\u001b[0;31m---------------------------------------------------------------------------\u001b[0m",
      "\u001b[0;31mTypeError\u001b[0m                                 Traceback (most recent call last)",
      "Cell \u001b[0;32mIn [31], line 1\u001b[0m\n\u001b[0;32m----> 1\u001b[0m solution(\u001b[39m10\u001b[39;49m,[\u001b[39m9\u001b[39;49m, \u001b[39m4\u001b[39;49m, \u001b[39m4\u001b[39;49m, \u001b[39m4\u001b[39;49m, \u001b[39m7\u001b[39;49m], [\u001b[39m2\u001b[39;49m, \u001b[39m10\u001b[39;49m, \u001b[39m7\u001b[39;49m, \u001b[39m6\u001b[39;49m, \u001b[39m3\u001b[39;49m])\n",
      "Cell \u001b[0;32mIn [30], line 30\u001b[0m, in \u001b[0;36msolution\u001b[0;34m(n, t1, t2)\u001b[0m\n\u001b[1;32m     26\u001b[0m \u001b[39mfor\u001b[39;00m i \u001b[39min\u001b[39;00m comb:\n\u001b[1;32m     27\u001b[0m     i\u001b[39m.\u001b[39msort()\n\u001b[0;32m---> 30\u001b[0m \u001b[39mreturn\u001b[39;00m dfs(\u001b[39m4\u001b[39;49m, \u001b[39mlen\u001b[39;49m(t1), comb)\n",
      "Cell \u001b[0;32mIn [30], line 7\u001b[0m, in \u001b[0;36mdfs\u001b[0;34m(v, length, comb)\u001b[0m\n\u001b[1;32m      5\u001b[0m \u001b[39mfor\u001b[39;00m i \u001b[39min\u001b[39;00m comb[v]:\n\u001b[1;32m      6\u001b[0m     \u001b[39mif\u001b[39;00m \u001b[39mnot\u001b[39;00m visited[i]:\n\u001b[0;32m----> 7\u001b[0m         dfs(i)\n",
      "\u001b[0;31mTypeError\u001b[0m: dfs() missing 2 required positional arguments: 'length' and 'comb'"
     ]
    }
   ],
   "source": [
    "solution(10,[9, 4, 4, 4, 7], [2, 10, 7, 6, 3])"
   ]
  },
  {
   "cell_type": "code",
   "execution_count": 14,
   "metadata": {},
   "outputs": [
    {
     "ename": "TypeError",
     "evalue": "combinations() takes at most 2 arguments (3 given)",
     "output_type": "error",
     "traceback": [
      "\u001b[0;31m---------------------------------------------------------------------------\u001b[0m",
      "\u001b[0;31mTypeError\u001b[0m                                 Traceback (most recent call last)",
      "Cell \u001b[0;32mIn [14], line 3\u001b[0m\n\u001b[1;32m      1\u001b[0m \u001b[39mfrom\u001b[39;00m \u001b[39mitertools\u001b[39;00m \u001b[39mimport\u001b[39;00m product\n\u001b[1;32m      2\u001b[0m a \u001b[39m=\u001b[39m [[\u001b[39m1\u001b[39m,\u001b[39m2\u001b[39m,\u001b[39m3\u001b[39m], [\u001b[39m'\u001b[39m\u001b[39ma\u001b[39m\u001b[39m'\u001b[39m,\u001b[39m'\u001b[39m\u001b[39mb\u001b[39m\u001b[39m'\u001b[39m], [\u001b[39m'\u001b[39m\u001b[39m!\u001b[39m\u001b[39m'\u001b[39m, \u001b[39m'\u001b[39m\u001b[39m?\u001b[39m\u001b[39m'\u001b[39m]]\n\u001b[0;32m----> 3\u001b[0m \u001b[39mlist\u001b[39m(combinations(\u001b[39m*\u001b[39;49ma))\n",
      "\u001b[0;31mTypeError\u001b[0m: combinations() takes at most 2 arguments (3 given)"
     ]
    }
   ],
   "source": [
    "from itertools import product\n",
    "a = [[1,2,3], ['a','b'], ['!', '?']]\n",
    "list(combinations(*a))"
   ]
  },
  {
   "cell_type": "code",
   "execution_count": 17,
   "metadata": {},
   "outputs": [
    {
     "ename": "TypeError",
     "evalue": "'list' object cannot be interpreted as an integer",
     "output_type": "error",
     "traceback": [
      "\u001b[0;31m---------------------------------------------------------------------------\u001b[0m",
      "\u001b[0;31mTypeError\u001b[0m                                 Traceback (most recent call last)",
      "Cell \u001b[0;32mIn [17], line 2\u001b[0m\n\u001b[1;32m      1\u001b[0m comb \u001b[39m=\u001b[39m []\n\u001b[0;32m----> 2\u001b[0m \u001b[39mfor\u001b[39;00m i \u001b[39min\u001b[39;00m \u001b[39mrange\u001b[39;49m(t1):\n\u001b[1;32m      3\u001b[0m     temp \u001b[39m=\u001b[39m []\n\u001b[1;32m      4\u001b[0m     temp\u001b[39m.\u001b[39mappend(t1[i])\n",
      "\u001b[0;31mTypeError\u001b[0m: 'list' object cannot be interpreted as an integer"
     ]
    }
   ],
   "source": [
    "comb = []\n",
    "for i in range(t1):\n",
    "    temp = []\n",
    "    temp.append(t1[i])\n",
    "    temp.append(t2[i])\n",
    "    comb.append(temp)\n",
    "\n",
    "comb"
   ]
  },
  {
   "cell_type": "code",
   "execution_count": 26,
   "metadata": {},
   "outputs": [],
   "source": [
    "def solution(text):\n",
    "    alpha_dic = {\"A\":1, \"B\":2}\n",
    "    answer = []\n",
    "    while text != \"\":\n",
    "        for i in range(len(text)):\n",
    "            if text[:len(text)-i] in alpha_dic.keys():\n",
    "                W = text[:len(text)-i]\n",
    "                answer.append(alpha_dic[W])\n",
    "                text=text[len(text)-i:]\n",
    "                c = text[0:1]\n",
    "                alpha_dic[W+c] = max(alpha_dic.values())+1\n",
    "                break\n",
    "    for i in range(len(answer)):\n",
    "        answer[i] -= 1\n",
    "        \n",
    "    return answer"
   ]
  },
  {
   "cell_type": "code",
   "execution_count": 27,
   "metadata": {},
   "outputs": [
    {
     "ename": "AttributeError",
     "evalue": "'str' object has no attribute 'values'",
     "output_type": "error",
     "traceback": [
      "\u001b[0;31m---------------------------------------------------------------------------\u001b[0m",
      "\u001b[0;31mAttributeError\u001b[0m                            Traceback (most recent call last)",
      "Cell \u001b[0;32mIn [27], line 1\u001b[0m\n\u001b[0;32m----> 1\u001b[0m solution(\u001b[39m'\u001b[39;49m\u001b[39mABABAABAB\u001b[39;49m\u001b[39m'\u001b[39;49m)\n",
      "Cell \u001b[0;32mIn [26], line 11\u001b[0m, in \u001b[0;36msolution\u001b[0;34m(text)\u001b[0m\n\u001b[1;32m      9\u001b[0m             text\u001b[39m=\u001b[39mtext[\u001b[39mlen\u001b[39m(text)\u001b[39m-\u001b[39mi:]\n\u001b[1;32m     10\u001b[0m             c \u001b[39m=\u001b[39m text[\u001b[39m0\u001b[39m:\u001b[39m1\u001b[39m]\n\u001b[0;32m---> 11\u001b[0m             alpha_dic[W\u001b[39m+\u001b[39mc] \u001b[39m=\u001b[39m \u001b[39mmax\u001b[39m(text\u001b[39m.\u001b[39;49mvalues())\u001b[39m+\u001b[39m\u001b[39m1\u001b[39m\n\u001b[1;32m     12\u001b[0m             \u001b[39mbreak\u001b[39;00m\n\u001b[1;32m     14\u001b[0m \u001b[39mreturn\u001b[39;00m answer\n",
      "\u001b[0;31mAttributeError\u001b[0m: 'str' object has no attribute 'values'"
     ]
    }
   ],
   "source": [
    "solution('ABABAABAB')"
   ]
  },
  {
   "cell_type": "code",
   "execution_count": null,
   "metadata": {},
   "outputs": [],
   "source": []
  }
 ],
 "metadata": {
  "kernelspec": {
   "display_name": "Python 3.10.2 64-bit",
   "language": "python",
   "name": "python3"
  },
  "language_info": {
   "codemirror_mode": {
    "name": "ipython",
    "version": 3
   },
   "file_extension": ".py",
   "mimetype": "text/x-python",
   "name": "python",
   "nbconvert_exporter": "python",
   "pygments_lexer": "ipython3",
   "version": "3.10.2"
  },
  "orig_nbformat": 4,
  "vscode": {
   "interpreter": {
    "hash": "7a792fcb311f9eb9f3c1b942a8c87ada8484712b89b670347c16a1088e0a1f69"
   }
  }
 },
 "nbformat": 4,
 "nbformat_minor": 2
}
